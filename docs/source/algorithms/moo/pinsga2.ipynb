{
 "cells": [
  {
   "cell_type": "raw",
   "metadata": {
    "vscode": {
     "languageId": "raw"
    }
   },
   "source": [
    ".. _nb_pinsga2:"
   ]
  },
  {
   "cell_type": "markdown",
   "metadata": {},
   "source": [
    ".. meta::\n",
    "    :description:  An implementation of a progressivly interactive NSGA-II algorithm that uses user preference to guide the solving of multi=objective optimization problems. Value function optimization is used to take a user generated ranking of key points to segment the search space."
   ]
  },
  {
   "cell_type": "markdown",
   "metadata": {},
   "source": [
    ".. meta::\n",
    "    :keywords: PINSGA2, PINSGA-II, Progressivly Interactive, Multi-objective Optimization, Python"
   ]
  },
  {
   "cell_type": "markdown",
   "metadata": {},
   "source": [
    "# PI-NSGA-II: Progressivly Interactive Optimization Using NSGA-II"
   ]
  },
  {
   "cell_type": "markdown",
   "metadata": {},
   "source": [
    "PI-NSGA-II (PINSGA2) is an extension of the NSGA-II algorithm that introduces a custom domination operator that uses user preference to guide the optimization process in multi-objective problems. \n",
    "\n",
    "At regular intervals (tau generations), the algorithm pauses to select eta sparse points from the current Pareto front. These points are given to the decision-maker, who ranks them based on personal preference. The ranking can be either absolute, where solutions are ranked from highest to lowest preference, or pairwise, where solutions are compared in pairs to establish a relative preference order.\n",
    "\n",
    "The user-provided rankings are then used to fit a value function that splits the search space of the problem. These regions modify the domination of points for the next tau generations, and then the process is repeated.\n",
    "\n",
    "This algorithm can be customized to fit your needs in the following ways:\n",
    "\n",
    "- Number of gens between each fit (tau)\n",
    "- Number of pts to rank (eta)\n",
    "\n",
    "- Optimization Method (opt_method):\n",
    "  - 'trust-constr'\n",
    "  - 'SLSQP'\n",
    "  - 'ES'\n",
    "  - 'GA'\n",
    "\n",
    "- Value Function Type (vf_type):\n",
    "  - 'linear' - will only segment the search space with parallel lines\n",
    "  - 'poly' - will segment the search space with iso-curves\n",
    "\n",
    "- Ranking Method (ranking_method):\n",
    "  - 'absolute' - User must provide a complete ranking\n",
    "  - 'pairwise' - User only compares two solutions at time\n",
    "\n",
    "- Automatic Ranking (automated_dm):\n",
    "  - an implementation of the automatedDM class cutomized to your need, define makeDecision(self, F) to return rankings:\n",
    "    - If ranking_method = 'absolute', makeDecision will recieve eta pts and must return a complete ranking of those points\n",
    "    - If ranking_method = 'pairwise', makeDecision will recieve pairs of points and must return 'a' if the first point is better, 'b' if the second point is better, or 'c' if they are equally good."
   ]
  },
  {
   "cell_type": "markdown",
   "metadata": {},
   "source": [
    "#### Example"
   ]
  },
  {
   "cell_type": "markdown",
   "metadata": {},
   "source": [
    "this is a simple example with a custom automatedDM. This is using problem ztd3, for it recognizable steps in the pareto-front. The decision maker is set to rank four points every 10 generations based on their distance from the center of the second region of the solution. In this case imagine you only want solution in this area of the search space, other solutions are undisireable or unfeasable, it is better to explore what you know you want to find more options."
   ]
  },
  {
   "cell_type": "code",
   "execution_count": null,
   "metadata": {},
   "outputs": [],
   "source": [
    "from pymoo.algorithms.moo.pinsga2 import PINSGA2, AutomatedDM\n",
    "from pymoo.problems import get_problem\n",
    "from pymoo.optimize import minimize\n",
    "import numpy as np\n",
    "from pymoo.visualization.scatter import Scatter\n",
    "\n",
    "class simpleDM( AutomatedDM ):\n",
    "    \n",
    "    def makeDecision(self, F): \n",
    "        # Euclidean distance from center of region # 2\n",
    "        distances = np.sqrt( ( F[:, 0] - 0.21999557 )**2 + ( 0.40167775 - F[:, 1] )**2 )  \n",
    "\n",
    "        if distances[0] < distances[1]:\n",
    "            out = 'a'\n",
    "        elif distances[1] < distances[0]:\n",
    "            out = 'b'\n",
    "        else:\n",
    "            out = 'c'\n",
    "        \n",
    "        return out\n",
    "\n",
    "simple_dm = simpleDM()\n",
    "\n",
    "problem = get_problem(\"zdt3\")\n",
    "\n",
    "algorithm = PINSGA2(pop_size=30, \n",
    "                    tau=10,\n",
    "                    eta=4,\n",
    "                    opt_method=\"trust-constr\", \n",
    "                    vf_type=\"poly\",\n",
    "                    ranking_type=\"pairwise\",\n",
    "                    automated_dm=simple_dm)\n",
    "\n",
    "res = minimize(problem,\n",
    "               algorithm,\n",
    "               ('n_gen', 100),\n",
    "               seed=1,\n",
    "               verbose=False)\n",
    "\n",
    "plot = Scatter()\n",
    "plot.add(problem.pareto_front(), plot_type=\"line\", color=\"black\", alpha=0.7)\n",
    "plot.add(res.F, facecolor=\"none\", edgecolor=\"red\")\n",
    "plot.show()"
   ]
  },
  {
   "cell_type": "markdown",
   "metadata": {},
   "source": [
    "### API"
   ]
  },
  {
   "cell_type": "raw",
   "metadata": {
    "vscode": {
     "languageId": "raw"
    }
   },
   "source": [
    ".. autoclass:: pymoo.algorithms.moo.pinsga2.PINSGA2\n",
    "    :noindex:"
   ]
  }
 ],
 "metadata": {
  "kernelspec": {
   "display_name": "eleven",
   "language": "python",
   "name": "python3"
  },
  "language_info": {
   "codemirror_mode": {
    "name": "ipython",
    "version": 3
   },
   "file_extension": ".py",
   "mimetype": "text/x-python",
   "name": "python",
   "nbconvert_exporter": "python",
   "pygments_lexer": "ipython3",
   "version": "3.11.9"
  }
 },
 "nbformat": 4,
 "nbformat_minor": 2
}
