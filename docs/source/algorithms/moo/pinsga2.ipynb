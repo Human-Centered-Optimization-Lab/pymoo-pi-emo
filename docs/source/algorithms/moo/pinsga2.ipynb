{
 "cells": [
  {
   "cell_type": "raw",
   "metadata": {
    "vscode": {
     "languageId": "raw"
    }
   },
   "source": [
    ".. _nb_pinsga2:"
   ]
  },
  {
   "cell_type": "markdown",
   "metadata": {},
   "source": [
    ".. meta::\n",
    "    :description:  An implementation of a progressivly interactive NSGA-II algorithm that uses user preference to guide the solving of multi=objective optimization problems. Value function optimization is used to take a user generated ranking of key points to segment the search space."
   ]
  },
  {
   "cell_type": "markdown",
   "metadata": {},
   "source": [
    ".. meta::\n",
    "    :keywords: PINSGA2, PINSGA-II, Progressivly Interactive, Multi-objective Optimization, Python"
   ]
  },
  {
   "cell_type": "markdown",
   "metadata": {},
   "source": [
    "# PI-NSGA-II: Progressivly Interactive Optimization Using NSGA-II"
   ]
  },
  {
   "cell_type": "markdown",
   "metadata": {},
   "source": [
    "PI-NSGA-II (PINSGA2) is an extension of the NSGA-II algorithm that introduces a custom domination operator that uses user preference to guide the optimization process in multi-objective problems. \n",
    "\n",
    "At regular intervals (tau generations), the algorithm pauses to select eta sparse points from the current Pareto front. These points are given to the decision-maker, who ranks them based on personal preference. The ranking can be either absolute, where solutions are ranked from highest to lowest preference, or pairwise, where solutions are compared in pairs to establish a relative preference order.\n",
    "\n",
    "The user-provided rankings are then used to fit a value function that splits the search space of the problem. These regions modify the domination of points for the next tau generations, and then the process is repeated.\n",
    "\n",
    "This algorithm can be customized to fit your needs in the following ways:\n",
    "\n",
    "- Number of gens between each fit (tau)\n",
    "- Number of pts to rank (eta)\n",
    "\n",
    "- Optimization Method (opt_method):\n",
    "  - 'trust-constr'\n",
    "  - 'SLSQP'\n",
    "  - 'ES'\n",
    "  - 'GA'\n",
    "\n",
    "- Value Function Type (vf_type):\n",
    "  - 'linear' - will only segment the search space with parallel lines\n",
    "  - 'poly' - will segment the search space with iso-curves\n",
    "\n",
    "- Ranking Method (ranking_method):\n",
    "  - 'absolute' - User must provide a complete ranking\n",
    "  - 'pairwise' - User only compares two solutions at time\n",
    "\n",
    "- Automatic Ranking (automated_dm):\n",
    "  - an implementation of the automatedDM class cutomized to your need, if used ranking_method is ignored"
   ]
  },
  {
   "cell_type": "markdown",
   "metadata": {},
   "source": [
    "#### Example"
   ]
  },
  {
   "cell_type": "markdown",
   "metadata": {},
   "source": [
    "this is a simple example with a custom automatedDM. This is using problem ztd3, for it recognizable steps in the pareto-front. The decision maker is set to rank four points every 10 generations based on their distance from the center of the second region of the solution. In this case imagine you only want solution in this area of the search space, other solutions are undisireable or unfeasable, it is better to explore what you know you want to find more options."
   ]
  },
  {
   "cell_type": "code",
   "execution_count": 3,
   "metadata": {},
   "outputs": [
    {
     "ename": "ValueError",
     "evalue": "all the input array dimensions except for the concatenation axis must match exactly, but along dimension 0, the array at index 0 has size 3 and the array at index 1 has size 4",
     "output_type": "error",
     "traceback": [
      "\u001b[0;31m---------------------------------------------------------------------------\u001b[0m",
      "\u001b[0;31mValueError\u001b[0m                                Traceback (most recent call last)",
      "Cell \u001b[0;32mIn[3], line 26\u001b[0m\n\u001b[1;32m     17\u001b[0m problem \u001b[38;5;241m=\u001b[39m get_problem(\u001b[38;5;124m\"\u001b[39m\u001b[38;5;124mzdt3\u001b[39m\u001b[38;5;124m\"\u001b[39m)\n\u001b[1;32m     19\u001b[0m algorithm \u001b[38;5;241m=\u001b[39m PINSGA2(pop_size\u001b[38;5;241m=\u001b[39m\u001b[38;5;241m30\u001b[39m, \n\u001b[1;32m     20\u001b[0m                     tau\u001b[38;5;241m=\u001b[39m\u001b[38;5;241m10\u001b[39m,\n\u001b[1;32m     21\u001b[0m                     eta\u001b[38;5;241m=\u001b[39m\u001b[38;5;241m4\u001b[39m,\n\u001b[1;32m     22\u001b[0m                     opt_method\u001b[38;5;241m=\u001b[39m\u001b[38;5;124m\"\u001b[39m\u001b[38;5;124mtrust-constr\u001b[39m\u001b[38;5;124m\"\u001b[39m, \n\u001b[1;32m     23\u001b[0m                     vf_type\u001b[38;5;241m=\u001b[39m\u001b[38;5;124m\"\u001b[39m\u001b[38;5;124mpoly\u001b[39m\u001b[38;5;124m\"\u001b[39m,\n\u001b[1;32m     24\u001b[0m                     automated_dm\u001b[38;5;241m=\u001b[39msimpleDM)\n\u001b[0;32m---> 26\u001b[0m res \u001b[38;5;241m=\u001b[39m \u001b[43mminimize\u001b[49m\u001b[43m(\u001b[49m\u001b[43mproblem\u001b[49m\u001b[43m,\u001b[49m\n\u001b[1;32m     27\u001b[0m \u001b[43m               \u001b[49m\u001b[43malgorithm\u001b[49m\u001b[43m,\u001b[49m\n\u001b[1;32m     28\u001b[0m \u001b[43m               \u001b[49m\u001b[43m(\u001b[49m\u001b[38;5;124;43m'\u001b[39;49m\u001b[38;5;124;43mn_gen\u001b[39;49m\u001b[38;5;124;43m'\u001b[39;49m\u001b[43m,\u001b[49m\u001b[43m \u001b[49m\u001b[38;5;241;43m100\u001b[39;49m\u001b[43m)\u001b[49m\u001b[43m,\u001b[49m\n\u001b[1;32m     29\u001b[0m \u001b[43m               \u001b[49m\u001b[43mseed\u001b[49m\u001b[38;5;241;43m=\u001b[39;49m\u001b[38;5;241;43m1\u001b[39;49m\u001b[43m,\u001b[49m\n\u001b[1;32m     30\u001b[0m \u001b[43m               \u001b[49m\u001b[43mverbose\u001b[49m\u001b[38;5;241;43m=\u001b[39;49m\u001b[38;5;28;43;01mFalse\u001b[39;49;00m\u001b[43m)\u001b[49m\n\u001b[1;32m     32\u001b[0m plot \u001b[38;5;241m=\u001b[39m Scatter()\n\u001b[1;32m     33\u001b[0m plot\u001b[38;5;241m.\u001b[39madd(problem\u001b[38;5;241m.\u001b[39mpareto_front(), plot_type\u001b[38;5;241m=\u001b[39m\u001b[38;5;124m\"\u001b[39m\u001b[38;5;124mline\u001b[39m\u001b[38;5;124m\"\u001b[39m, color\u001b[38;5;241m=\u001b[39m\u001b[38;5;124m\"\u001b[39m\u001b[38;5;124mblack\u001b[39m\u001b[38;5;124m\"\u001b[39m, alpha\u001b[38;5;241m=\u001b[39m\u001b[38;5;241m0.7\u001b[39m)\n",
      "File \u001b[0;32m~/anaconda3/envs/eleven/lib/python3.11/site-packages/pymoo/optimize.py:67\u001b[0m, in \u001b[0;36mminimize\u001b[0;34m(problem, algorithm, termination, copy_algorithm, copy_termination, **kwargs)\u001b[0m\n\u001b[1;32m     64\u001b[0m     algorithm\u001b[38;5;241m.\u001b[39msetup(problem, \u001b[38;5;241m*\u001b[39m\u001b[38;5;241m*\u001b[39mkwargs)\n\u001b[1;32m     66\u001b[0m \u001b[38;5;66;03m# actually execute the algorithm\u001b[39;00m\n\u001b[0;32m---> 67\u001b[0m res \u001b[38;5;241m=\u001b[39m \u001b[43malgorithm\u001b[49m\u001b[38;5;241;43m.\u001b[39;49m\u001b[43mrun\u001b[49m\u001b[43m(\u001b[49m\u001b[43m)\u001b[49m\n\u001b[1;32m     69\u001b[0m \u001b[38;5;66;03m# store the deep copied algorithm in the result object\u001b[39;00m\n\u001b[1;32m     70\u001b[0m res\u001b[38;5;241m.\u001b[39malgorithm \u001b[38;5;241m=\u001b[39m algorithm\n",
      "File \u001b[0;32m~/anaconda3/envs/eleven/lib/python3.11/site-packages/pymoo/core/algorithm.py:141\u001b[0m, in \u001b[0;36mAlgorithm.run\u001b[0;34m(self)\u001b[0m\n\u001b[1;32m    139\u001b[0m \u001b[38;5;28;01mdef\u001b[39;00m \u001b[38;5;21mrun\u001b[39m(\u001b[38;5;28mself\u001b[39m):\n\u001b[1;32m    140\u001b[0m     \u001b[38;5;28;01mwhile\u001b[39;00m \u001b[38;5;28mself\u001b[39m\u001b[38;5;241m.\u001b[39mhas_next():\n\u001b[0;32m--> 141\u001b[0m         \u001b[38;5;28;43mself\u001b[39;49m\u001b[38;5;241;43m.\u001b[39;49m\u001b[43mnext\u001b[49m\u001b[43m(\u001b[49m\u001b[43m)\u001b[49m\n\u001b[1;32m    142\u001b[0m     \u001b[38;5;28;01mreturn\u001b[39;00m \u001b[38;5;28mself\u001b[39m\u001b[38;5;241m.\u001b[39mresult()\n",
      "File \u001b[0;32m~/anaconda3/envs/eleven/lib/python3.11/site-packages/pymoo/core/algorithm.py:162\u001b[0m, in \u001b[0;36mAlgorithm.next\u001b[0;34m(self)\u001b[0m\n\u001b[1;32m    160\u001b[0m \u001b[38;5;28;01mif\u001b[39;00m infills \u001b[38;5;129;01mis\u001b[39;00m \u001b[38;5;129;01mnot\u001b[39;00m \u001b[38;5;28;01mNone\u001b[39;00m:\n\u001b[1;32m    161\u001b[0m     \u001b[38;5;28mself\u001b[39m\u001b[38;5;241m.\u001b[39mevaluator\u001b[38;5;241m.\u001b[39meval(\u001b[38;5;28mself\u001b[39m\u001b[38;5;241m.\u001b[39mproblem, infills, algorithm\u001b[38;5;241m=\u001b[39m\u001b[38;5;28mself\u001b[39m)\n\u001b[0;32m--> 162\u001b[0m     \u001b[38;5;28;43mself\u001b[39;49m\u001b[38;5;241;43m.\u001b[39;49m\u001b[43madvance\u001b[49m\u001b[43m(\u001b[49m\u001b[43minfills\u001b[49m\u001b[38;5;241;43m=\u001b[39;49m\u001b[43minfills\u001b[49m\u001b[43m)\u001b[49m\n\u001b[1;32m    164\u001b[0m \u001b[38;5;66;03m# if the algorithm does not follow the infill-advance scheme just call advance\u001b[39;00m\n\u001b[1;32m    165\u001b[0m \u001b[38;5;28;01melse\u001b[39;00m:\n\u001b[1;32m    166\u001b[0m     \u001b[38;5;28mself\u001b[39m\u001b[38;5;241m.\u001b[39madvance()\n",
      "File \u001b[0;32m~/anaconda3/envs/eleven/lib/python3.11/site-packages/pymoo/core/algorithm.py:228\u001b[0m, in \u001b[0;36mAlgorithm.advance\u001b[0;34m(self, infills, **kwargs)\u001b[0m\n\u001b[1;32m    223\u001b[0m     \u001b[38;5;28mself\u001b[39m\u001b[38;5;241m.\u001b[39m_post_advance()\n\u001b[1;32m    225\u001b[0m \u001b[38;5;28;01melse\u001b[39;00m:\n\u001b[1;32m    226\u001b[0m \n\u001b[1;32m    227\u001b[0m     \u001b[38;5;66;03m# call the implementation of the advance method - if the infill is not None\u001b[39;00m\n\u001b[0;32m--> 228\u001b[0m     val \u001b[38;5;241m=\u001b[39m \u001b[38;5;28;43mself\u001b[39;49m\u001b[38;5;241;43m.\u001b[39;49m\u001b[43m_advance\u001b[49m\u001b[43m(\u001b[49m\u001b[43minfills\u001b[49m\u001b[38;5;241;43m=\u001b[39;49m\u001b[43minfills\u001b[49m\u001b[43m,\u001b[49m\u001b[43m \u001b[49m\u001b[38;5;241;43m*\u001b[39;49m\u001b[38;5;241;43m*\u001b[39;49m\u001b[43mkwargs\u001b[49m\u001b[43m)\u001b[49m\n\u001b[1;32m    230\u001b[0m     \u001b[38;5;66;03m# always advance to the next iteration - except if the algorithm returns False\u001b[39;00m\n\u001b[1;32m    231\u001b[0m     \u001b[38;5;28;01mif\u001b[39;00m val \u001b[38;5;129;01mis\u001b[39;00m \u001b[38;5;28;01mNone\u001b[39;00m \u001b[38;5;129;01mor\u001b[39;00m val:\n",
      "File \u001b[0;32m~/anaconda3/envs/eleven/lib/python3.11/site-packages/pymoo/algorithms/moo/pinsga2.py:201\u001b[0m, in \u001b[0;36mPINSGA2._advance\u001b[0;34m(self, infills, **kwargs)\u001b[0m\n\u001b[1;32m    197\u001b[0m     vf_res \u001b[38;5;241m=\u001b[39m mvf\u001b[38;5;241m.\u001b[39mcreate_linear_vf(eta_F \u001b[38;5;241m*\u001b[39m \u001b[38;5;241m-\u001b[39m\u001b[38;5;241m1\u001b[39m, dm_ranks\u001b[38;5;241m.\u001b[39mtolist(), \u001b[38;5;28mself\u001b[39m\u001b[38;5;241m.\u001b[39mopt_method)\n\u001b[1;32m    199\u001b[0m \u001b[38;5;28;01melif\u001b[39;00m \u001b[38;5;28mself\u001b[39m\u001b[38;5;241m.\u001b[39mvf_type \u001b[38;5;241m==\u001b[39m \u001b[38;5;124m\"\u001b[39m\u001b[38;5;124mpoly\u001b[39m\u001b[38;5;124m\"\u001b[39m:\n\u001b[0;32m--> 201\u001b[0m     vf_res \u001b[38;5;241m=\u001b[39m \u001b[43mmvf\u001b[49m\u001b[38;5;241;43m.\u001b[39;49m\u001b[43mcreate_poly_vf\u001b[49m\u001b[43m(\u001b[49m\u001b[43meta_F\u001b[49m\u001b[43m \u001b[49m\u001b[38;5;241;43m*\u001b[39;49m\u001b[43m \u001b[49m\u001b[38;5;241;43m-\u001b[39;49m\u001b[38;5;241;43m1\u001b[39;49m\u001b[43m,\u001b[49m\u001b[43m \u001b[49m\u001b[43mdm_ranks\u001b[49m\u001b[38;5;241;43m.\u001b[39;49m\u001b[43mtolist\u001b[49m\u001b[43m(\u001b[49m\u001b[43m)\u001b[49m\u001b[43m,\u001b[49m\u001b[43m \u001b[49m\u001b[38;5;28;43mself\u001b[39;49m\u001b[38;5;241;43m.\u001b[39;49m\u001b[43mopt_method\u001b[49m\u001b[43m)\u001b[49m\n\u001b[1;32m    203\u001b[0m \u001b[38;5;28;01melse\u001b[39;00m:\n\u001b[1;32m    205\u001b[0m     \u001b[38;5;28;01mraise\u001b[39;00m \u001b[38;5;167;01mValueError\u001b[39;00m(\u001b[38;5;124m\"\u001b[39m\u001b[38;5;124mValue function \u001b[39m\u001b[38;5;132;01m%s\u001b[39;00m\u001b[38;5;124m not supported\u001b[39m\u001b[38;5;124m\"\u001b[39m \u001b[38;5;241m%\u001b[39m \u001b[38;5;28mself\u001b[39m\u001b[38;5;241m.\u001b[39mvf_type)\n",
      "File \u001b[0;32m~/anaconda3/envs/eleven/lib/python3.11/site-packages/pymoo/util/value_functions.py:39\u001b[0m, in \u001b[0;36mcreate_poly_vf\u001b[0;34m(P, ranks, delta, method)\u001b[0m\n\u001b[1;32m     36\u001b[0m \u001b[38;5;28;01mdef\u001b[39;00m \u001b[38;5;21mcreate_poly_vf\u001b[39m(P, ranks, delta\u001b[38;5;241m=\u001b[39m\u001b[38;5;241m0.1\u001b[39m, method\u001b[38;5;241m=\u001b[39m\u001b[38;5;124m\"\u001b[39m\u001b[38;5;124mtrust-constr\u001b[39m\u001b[38;5;124m\"\u001b[39m):\n\u001b[1;32m     38\u001b[0m     \u001b[38;5;28;01mif\u001b[39;00m method \u001b[38;5;241m==\u001b[39m \u001b[38;5;124m\"\u001b[39m\u001b[38;5;124mtrust-constr\u001b[39m\u001b[38;5;124m\"\u001b[39m \u001b[38;5;129;01mor\u001b[39;00m method \u001b[38;5;241m==\u001b[39m \u001b[38;5;124m\"\u001b[39m\u001b[38;5;124mSLSQP\u001b[39m\u001b[38;5;124m\"\u001b[39m: \n\u001b[0;32m---> 39\u001b[0m         res \u001b[38;5;241m=\u001b[39m \u001b[43mcreate_vf_scipy_poly\u001b[49m\u001b[43m(\u001b[49m\u001b[43mP\u001b[49m\u001b[43m,\u001b[49m\u001b[43m \u001b[49m\u001b[43mranks\u001b[49m\u001b[43m,\u001b[49m\u001b[43m \u001b[49m\u001b[43mdelta\u001b[49m\u001b[43m,\u001b[49m\u001b[43m \u001b[49m\u001b[43mmethod\u001b[49m\u001b[38;5;241;43m=\u001b[39;49m\u001b[43mmethod\u001b[49m\u001b[43m)\u001b[49m\n\u001b[1;32m     40\u001b[0m         res\u001b[38;5;241m.\u001b[39mfit \u001b[38;5;241m=\u001b[39m _validate_vf(res)\n\u001b[1;32m     41\u001b[0m         \u001b[38;5;28;01mreturn\u001b[39;00m res\n",
      "File \u001b[0;32m~/anaconda3/envs/eleven/lib/python3.11/site-packages/pymoo/util/value_functions.py:85\u001b[0m, in \u001b[0;36mcreate_vf_scipy_poly\u001b[0;34m(P, ranks, delta, method)\u001b[0m\n\u001b[1;32m     82\u001b[0m     ineq_lb\u001b[38;5;241m.\u001b[39mappend(\u001b[38;5;241m0\u001b[39m)\n\u001b[1;32m     83\u001b[0m     ineq_ub\u001b[38;5;241m.\u001b[39mappend(\u001b[38;5;241m0\u001b[39m)\n\u001b[0;32m---> 85\u001b[0m P_sorted \u001b[38;5;241m=\u001b[39m \u001b[43m_sort_P\u001b[49m\u001b[43m(\u001b[49m\u001b[43mP\u001b[49m\u001b[43m,\u001b[49m\u001b[43m \u001b[49m\u001b[43mranks\u001b[49m\u001b[43m)\u001b[49m\n\u001b[1;32m     86\u001b[0m ranks\u001b[38;5;241m.\u001b[39msort() \n\u001b[1;32m     88\u001b[0m constr \u001b[38;5;241m=\u001b[39m NonlinearConstraint(_build_constr_poly(P_sorted, poly_vf, ranks, delta), ineq_lb, ineq_ub)\n",
      "File \u001b[0;32m~/anaconda3/envs/eleven/lib/python3.11/site-packages/pymoo/util/value_functions.py:483\u001b[0m, in \u001b[0;36m_sort_P\u001b[0;34m(P, ranks)\u001b[0m\n\u001b[1;32m    482\u001b[0m \u001b[38;5;28;01mdef\u001b[39;00m \u001b[38;5;21m_sort_P\u001b[39m(P, ranks): \n\u001b[0;32m--> 483\u001b[0m     P_with_rank \u001b[38;5;241m=\u001b[39m \u001b[43mnp\u001b[49m\u001b[38;5;241;43m.\u001b[39;49m\u001b[43mhstack\u001b[49m\u001b[43m(\u001b[49m\u001b[43m(\u001b[49m\u001b[43mP\u001b[49m\u001b[43m,\u001b[49m\u001b[43m \u001b[49m\u001b[43mnp\u001b[49m\u001b[38;5;241;43m.\u001b[39;49m\u001b[43marray\u001b[49m\u001b[43m(\u001b[49m\u001b[43m[\u001b[49m\u001b[43mranks\u001b[49m\u001b[43m]\u001b[49m\u001b[43m)\u001b[49m\u001b[38;5;241;43m.\u001b[39;49m\u001b[43mT\u001b[49m\u001b[43m)\u001b[49m\u001b[43m)\u001b[49m\n\u001b[1;32m    485\u001b[0m     P_sorted \u001b[38;5;241m=\u001b[39m P[P_with_rank[:, \u001b[38;5;241m-\u001b[39m\u001b[38;5;241m1\u001b[39m]\u001b[38;5;241m.\u001b[39margsort()]\n\u001b[1;32m    487\u001b[0m     \u001b[38;5;28;01mreturn\u001b[39;00m P_sorted\n",
      "File \u001b[0;32m~/anaconda3/envs/eleven/lib/python3.11/site-packages/numpy/core/shape_base.py:359\u001b[0m, in \u001b[0;36mhstack\u001b[0;34m(tup, dtype, casting)\u001b[0m\n\u001b[1;32m    357\u001b[0m     \u001b[38;5;28;01mreturn\u001b[39;00m _nx\u001b[38;5;241m.\u001b[39mconcatenate(arrs, \u001b[38;5;241m0\u001b[39m, dtype\u001b[38;5;241m=\u001b[39mdtype, casting\u001b[38;5;241m=\u001b[39mcasting)\n\u001b[1;32m    358\u001b[0m \u001b[38;5;28;01melse\u001b[39;00m:\n\u001b[0;32m--> 359\u001b[0m     \u001b[38;5;28;01mreturn\u001b[39;00m \u001b[43m_nx\u001b[49m\u001b[38;5;241;43m.\u001b[39;49m\u001b[43mconcatenate\u001b[49m\u001b[43m(\u001b[49m\u001b[43marrs\u001b[49m\u001b[43m,\u001b[49m\u001b[43m \u001b[49m\u001b[38;5;241;43m1\u001b[39;49m\u001b[43m,\u001b[49m\u001b[43m \u001b[49m\u001b[43mdtype\u001b[49m\u001b[38;5;241;43m=\u001b[39;49m\u001b[43mdtype\u001b[49m\u001b[43m,\u001b[49m\u001b[43m \u001b[49m\u001b[43mcasting\u001b[49m\u001b[38;5;241;43m=\u001b[39;49m\u001b[43mcasting\u001b[49m\u001b[43m)\u001b[49m\n",
      "\u001b[0;31mValueError\u001b[0m: all the input array dimensions except for the concatenation axis must match exactly, but along dimension 0, the array at index 0 has size 3 and the array at index 1 has size 4"
     ]
    }
   ],
   "source": [
    "from pymoo.algorithms.moo.pinsga2 import PINSGA2, AutomatedDM\n",
    "from pymoo.problems import get_problem\n",
    "from pymoo.optimize import minimize\n",
    "import numpy as np\n",
    "from pymoo.visualization.scatter import Scatter\n",
    "\n",
    "\n",
    "class simpleDM( AutomatedDM ):\n",
    "    \n",
    "    def makeDecision(F): \n",
    "        # Euclidean distance from center of region # 2\n",
    "        distances = np.sqrt( ( F[:, 0] - 0.21999557 )**2 + ( 0.40167775 - F[:, 1] )**2 )  \n",
    "\n",
    "        ranks = distances.argsort().argsort() + 1\n",
    "        return ranks\n",
    "\n",
    "problem = get_problem(\"zdt3\")\n",
    "\n",
    "algorithm = PINSGA2(pop_size=30, \n",
    "                    tau=10,\n",
    "                    eta=4,\n",
    "                    opt_method=\"trust-constr\", \n",
    "                    vf_type=\"poly\",\n",
    "                    automated_dm=simpleDM)\n",
    "\n",
    "res = minimize(problem,\n",
    "               algorithm,\n",
    "               ('n_gen', 100),\n",
    "               seed=1,\n",
    "               verbose=False)\n",
    "\n",
    "plot = Scatter()\n",
    "plot.add(problem.pareto_front(), plot_type=\"line\", color=\"black\", alpha=0.7)\n",
    "plot.add(res.F, facecolor=\"none\", edgecolor=\"red\")\n",
    "plot.show()"
   ]
  },
  {
   "cell_type": "markdown",
   "metadata": {},
   "source": [
    "### API"
   ]
  },
  {
   "cell_type": "raw",
   "metadata": {
    "vscode": {
     "languageId": "raw"
    }
   },
   "source": [
    ".. autoclass:: pymoo.algorithms.moo.pinsga2.PINSGA2\n",
    "    :noindex:"
   ]
  }
 ],
 "metadata": {
  "kernelspec": {
   "display_name": "eleven",
   "language": "python",
   "name": "python3"
  },
  "language_info": {
   "codemirror_mode": {
    "name": "ipython",
    "version": 3
   },
   "file_extension": ".py",
   "mimetype": "text/x-python",
   "name": "python",
   "nbconvert_exporter": "python",
   "pygments_lexer": "ipython3",
   "version": "3.11.9"
  }
 },
 "nbformat": 4,
 "nbformat_minor": 2
}
